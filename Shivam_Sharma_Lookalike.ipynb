{
  "nbformat": 4,
  "nbformat_minor": 0,
  "metadata": {
    "colab": {
      "provenance": []
    },
    "kernelspec": {
      "name": "python3",
      "display_name": "Python 3"
    },
    "language_info": {
      "name": "python"
    }
  },
  "cells": [
    {
      "cell_type": "code",
      "execution_count": 2,
      "metadata": {
        "id": "GlhyFhs07Stx"
      },
      "outputs": [],
      "source": [
        "from sklearn.metrics.pairwise import cosine_similarity\n",
        "from sklearn.preprocessing import StandardScaler\n",
        "import numpy as np\n",
        "import pandas as pd\n",
        "import matplotlib.pyplot as plt\n",
        "import seaborn as sns\n",
        "\n",
        "# Load and preprocess data\n",
        "customers = pd.read_csv('Customers.csv')\n",
        "transactions = pd.read_csv('Transactions.csv')\n",
        "\n",
        "# Aggregate transactional data\n",
        "customer_features = transactions.groupby('CustomerID').agg({\n",
        "    'TotalValue': 'sum',\n",
        "    'Quantity': 'sum'\n",
        "}).reset_index()\n",
        "\n",
        "# Merge with customer demographic data\n",
        "customer_profiles = customers.merge(customer_features, on='CustomerID', how='left').fillna(0)\n",
        "\n",
        "# Feature scaling\n",
        "scaler = StandardScaler()\n",
        "scaled_data = scaler.fit_transform(customer_profiles[['TotalValue', 'Quantity']])\n",
        "\n",
        "# Calculate similarity\n",
        "similarity_matrix = cosine_similarity(scaled_data)\n",
        "\n",
        "# Find top 3 similar customers for each\n",
        "lookalike_map = {}\n",
        "for i, customer_id in enumerate(customer_profiles['CustomerID']):\n",
        "    similarities = list(enumerate(similarity_matrix[i]))\n",
        "    top_similar = sorted(similarities, key=lambda x: -x[1])[1:4]  # Exclude self\n",
        "    lookalike_map[customer_id] = [(customer_profiles['CustomerID'][idx], score) for idx, score in top_similar]\n",
        "\n",
        "# Save results\n",
        "import csv\n",
        "with open('Shivam_Sharma_Lookalike.csv', 'w', newline='') as f:\n",
        "    writer = csv.writer(f)\n",
        "    writer.writerow(['cust_id', 'lookalikes'])\n",
        "    for customer_id, lookalikes in lookalike_map.items():\n",
        "        writer.writerow([customer_id, lookalikes])\n"
      ]
    },
    {
      "cell_type": "code",
      "source": [
        "from google.colab import drive\n",
        "drive.mount('/content/drive')"
      ],
      "metadata": {
        "id": "ql5wuOaI7n4_"
      },
      "execution_count": null,
      "outputs": []
    }
  ]
}